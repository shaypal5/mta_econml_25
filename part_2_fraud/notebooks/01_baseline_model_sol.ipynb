{
 "cells": [
  {
   "cell_type": "markdown",
   "id": "281003c3",
   "metadata": {},
   "source": [
    "# 📓 01_baseline_model.ipynb\n",
    "**Detecting Fraud — Baseline Model & Evaluation**"
   ]
  },
  {
   "cell_type": "code",
   "execution_count": null,
   "id": "29702af2",
   "metadata": {},
   "outputs": [],
   "source": [
    "import pandas as pd\n",
    "import matplotlib.pyplot as plt\n",
    "import seaborn as sns\n",
    "from sklearn.model_selection import train_test_split\n",
    "from sklearn.ensemble import RandomForestClassifier\n",
    "from sklearn.metrics import confusion_matrix, classification_report, roc_auc_score\n",
    "\n",
    "sns.set(style='whitegrid')"
   ]
  },
  {
   "cell_type": "code",
   "execution_count": null,
   "id": "7a28c4e2",
   "metadata": {},
   "outputs": [],
   "source": [
    "# Load the dataset\n",
    "df = pd.read_csv('../data/imbl_fraud.csv')\n",
    "df.head()"
   ]
  },
  {
   "cell_type": "code",
   "execution_count": null,
   "id": "1cec2610",
   "metadata": {},
   "outputs": [],
   "source": [
    "# Explore class distribution\n",
    "fraud_counts = df['isFraud'].value_counts(normalize=True)\n",
    "print(\"\\nClass Distribution (isFraud):\")\n",
    "print(fraud_counts)\n",
    "\n",
    "sns.countplot(data=df, x='isFraud')\n",
    "plt.title(\"Class Distribution: Fraud vs. Not Fraud\")\n",
    "plt.xlabel(\"isFraud\")\n",
    "plt.ylabel(\"Count\")\n",
    "plt.show()"
   ]
  },
  {
   "cell_type": "code",
   "execution_count": null,
   "id": "14610c46",
   "metadata": {},
   "outputs": [],
   "source": [
    "# Optional EDA: amount by type\n",
    "plt.figure(figsize=(8,4))\n",
    "sns.boxplot(data=df, x='type', y='amount')\n",
    "plt.yscale('log')\n",
    "plt.title(\"Transaction Amounts by Type (log scale)\")\n",
    "plt.xticks(rotation=45)\n",
    "plt.show()"
   ]
  },
  {
   "cell_type": "code",
   "execution_count": null,
   "id": "824b3a9b",
   "metadata": {},
   "outputs": [],
   "source": [
    "# Prepare data for modeling\n",
    "X = df.drop(columns=['isFraud', 'nameOrig', 'nameDest', 'oldbalanceOrg', \n",
    "                     'newbalanceOrig', 'oldbalanceDest', 'newbalanceDest'])\n",
    "X = pd.get_dummies(X, columns=['type'], drop_first=True)\n",
    "y = df['isFraud']\n",
    "\n",
    "X_train, X_test, y_train, y_test = train_test_split(X, y, test_size=0.3, stratify=y, random_state=42)"
   ]
  },
  {
   "cell_type": "code",
   "execution_count": null,
   "id": "0d8c3baa",
   "metadata": {},
   "outputs": [],
   "source": [
    "# Train a baseline model\n",
    "model = RandomForestClassifier(n_estimators=100, random_state=42)\n",
    "model.fit(X_train, y_train)"
   ]
  },
  {
   "cell_type": "code",
   "execution_count": null,
   "id": "0e2d2bea",
   "metadata": {},
   "outputs": [],
   "source": [
    "# Evaluate model\n",
    "from utils.metrics_helpers import plot_confusion_matrix\n",
    "\n",
    "y_pred = model.predict(X_test)\n",
    "plot_confusion_matrix(y_test, y_pred, labels=[0, 1])\n",
    "\n",
    "print(\"\\nClassification Report:\")\n",
    "print(classification_report(y_test, y_pred, digits=4))\n",
    "\n",
    "y_scores = model.predict_proba(X_test)[:, 1]\n",
    "roc_auc = roc_auc_score(y_test, y_scores)\n",
    "print(f\"\\nROC-AUC Score: {roc_auc:.4f}\")"
   ]
  },
  {
   "cell_type": "code",
   "execution_count": null,
   "id": "fa01b688",
   "metadata": {},
   "outputs": [],
   "source": [
    "print(\"\"\"\n",
    "🤔 Discussion Prompt:\n",
    "- Our model got high accuracy. Is that enough?\n",
    "- Which metric would matter most to a bank investigating fraud cases?\n",
    "- How well is the model doing on detecting the fraud class (1)?\n",
    "\n",
    "We'll explore better methods in the next notebook!\n",
    "\"\"\")"
   ]
  }
 ],
 "metadata": {},
 "nbformat": 4,
 "nbformat_minor": 5
}
