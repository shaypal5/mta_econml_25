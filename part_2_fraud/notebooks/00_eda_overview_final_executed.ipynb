{
 "cells": [
  {
   "cell_type": "markdown",
   "id": "a94fcb49",
   "metadata": {},
   "source": [
    "# 📊 00_eda_overview.ipynb\n",
    "**Exploratory Data Analysis: Fraud Detection in Financial Transactions**\n",
    "\n",
    "This notebook walks through the data behind our fraud detection problem using the PaySim synthetic dataset. The goal is to explore transaction types, detect patterns in fraudulent behavior, and identify key challenges for modeling."
   ]
  },
  {
   "cell_type": "code",
   "execution_count": 1,
   "id": "85ea74e1",
   "metadata": {
    "execution": {
     "iopub.execute_input": "2025-04-22T20:03:32.305372Z",
     "iopub.status.busy": "2025-04-22T20:03:32.304918Z",
     "iopub.status.idle": "2025-04-22T20:03:36.187089Z",
     "shell.execute_reply": "2025-04-22T20:03:36.186070Z"
    }
   },
   "outputs": [
    {
     "data": {
      "text/html": [
       "<div>\n",
       "<style scoped>\n",
       "    .dataframe tbody tr th:only-of-type {\n",
       "        vertical-align: middle;\n",
       "    }\n",
       "\n",
       "    .dataframe tbody tr th {\n",
       "        vertical-align: top;\n",
       "    }\n",
       "\n",
       "    .dataframe thead th {\n",
       "        text-align: right;\n",
       "    }\n",
       "</style>\n",
       "<table border=\"1\" class=\"dataframe\">\n",
       "  <thead>\n",
       "    <tr style=\"text-align: right;\">\n",
       "      <th></th>\n",
       "      <th>step</th>\n",
       "      <th>type</th>\n",
       "      <th>amount</th>\n",
       "      <th>nameOrig</th>\n",
       "      <th>oldbalanceOrg</th>\n",
       "      <th>newbalanceOrig</th>\n",
       "      <th>nameDest</th>\n",
       "      <th>oldbalanceDest</th>\n",
       "      <th>newbalanceDest</th>\n",
       "      <th>isFraud</th>\n",
       "    </tr>\n",
       "  </thead>\n",
       "  <tbody>\n",
       "    <tr>\n",
       "      <th>0</th>\n",
       "      <td>548</td>\n",
       "      <td>CASH_OUT</td>\n",
       "      <td>107758.11</td>\n",
       "      <td>C532543098</td>\n",
       "      <td>0.0</td>\n",
       "      <td>0.0</td>\n",
       "      <td>C480664961</td>\n",
       "      <td>277432.79</td>\n",
       "      <td>385190.89</td>\n",
       "      <td>0</td>\n",
       "    </tr>\n",
       "    <tr>\n",
       "      <th>1</th>\n",
       "      <td>258</td>\n",
       "      <td>TRANSFER</td>\n",
       "      <td>140540.86</td>\n",
       "      <td>C469332498</td>\n",
       "      <td>0.0</td>\n",
       "      <td>0.0</td>\n",
       "      <td>C2012266745</td>\n",
       "      <td>157713.83</td>\n",
       "      <td>298254.69</td>\n",
       "      <td>0</td>\n",
       "    </tr>\n",
       "    <tr>\n",
       "      <th>2</th>\n",
       "      <td>214</td>\n",
       "      <td>CASH_OUT</td>\n",
       "      <td>174294.02</td>\n",
       "      <td>C559944430</td>\n",
       "      <td>20390.0</td>\n",
       "      <td>0.0</td>\n",
       "      <td>C1109783085</td>\n",
       "      <td>5663788.15</td>\n",
       "      <td>5838082.17</td>\n",
       "      <td>0</td>\n",
       "    </tr>\n",
       "    <tr>\n",
       "      <th>3</th>\n",
       "      <td>19</td>\n",
       "      <td>CASH_OUT</td>\n",
       "      <td>424292.19</td>\n",
       "      <td>C1386932347</td>\n",
       "      <td>0.0</td>\n",
       "      <td>0.0</td>\n",
       "      <td>C164234467</td>\n",
       "      <td>589460.78</td>\n",
       "      <td>1013752.97</td>\n",
       "      <td>0</td>\n",
       "    </tr>\n",
       "    <tr>\n",
       "      <th>4</th>\n",
       "      <td>428</td>\n",
       "      <td>CASH_OUT</td>\n",
       "      <td>67515.86</td>\n",
       "      <td>C897752718</td>\n",
       "      <td>0.0</td>\n",
       "      <td>0.0</td>\n",
       "      <td>C562051757</td>\n",
       "      <td>1103984.18</td>\n",
       "      <td>1171500.04</td>\n",
       "      <td>0</td>\n",
       "    </tr>\n",
       "  </tbody>\n",
       "</table>\n",
       "</div>"
      ],
      "text/plain": [
       "   step      type     amount     nameOrig  oldbalanceOrg  newbalanceOrig  \\\n",
       "0   548  CASH_OUT  107758.11   C532543098            0.0             0.0   \n",
       "1   258  TRANSFER  140540.86   C469332498            0.0             0.0   \n",
       "2   214  CASH_OUT  174294.02   C559944430        20390.0             0.0   \n",
       "3    19  CASH_OUT  424292.19  C1386932347            0.0             0.0   \n",
       "4   428  CASH_OUT   67515.86   C897752718            0.0             0.0   \n",
       "\n",
       "      nameDest  oldbalanceDest  newbalanceDest  isFraud  \n",
       "0   C480664961       277432.79       385190.89        0  \n",
       "1  C2012266745       157713.83       298254.69        0  \n",
       "2  C1109783085      5663788.15      5838082.17        0  \n",
       "3   C164234467       589460.78      1013752.97        0  \n",
       "4   C562051757      1103984.18      1171500.04        0  "
      ]
     },
     "execution_count": 1,
     "metadata": {},
     "output_type": "execute_result"
    }
   ],
   "source": [
    "import numpy as np\n",
    "import pandas as pd\n",
    "import matplotlib.pyplot as plt\n",
    "import seaborn as sns\n",
    "sns.set(style='whitegrid')\n",
    "\n",
    "# Load the dataset\n",
    "df = pd.read_csv('/mnt/data/imbl_fraud.csv')\n",
    "df.head()"
   ]
  },
  {
   "cell_type": "markdown",
   "id": "afae63ee",
   "metadata": {
    "_cell_guid": "a58a2de7-d514-49f1-bfd4-a170d073fc58",
    "_uuid": "b08b5ca36efff32b32e4c77d1ec858a15e7469c5"
   },
   "source": [
    "<a id='top'></a>\n",
    "#### Outline: \n",
    "#### 1. <a href='#import'>Import</a>\n",
    "#### 2. <a href='#EDA'>Exploratory Data Analysis</a>\n",
    "21. <a href='#fraud-trans'>Which types of transactions are fraudulent?</a>\n",
    "22. <a href='#isFlaggedFraud'>What determines whether the feature *isFlaggedFraud* gets set or not?</a>\n",
    "23. <a href='#merchant'>Are expected merchant accounts accordingly labelled?</a>\n",
    "24. <a href='#common-accounts'>Are there account labels common to fraudulent TRANSFERs and CASH_OUTs?</a>\n",
    "\n",
    "#### 3. <a href='#clean'>Data Cleaning</a>\n",
    "31. <a href='#imputation'>Imputation of Latent Missing Values</a>\n",
    "\n",
    "#### 4. <a href='#feature-eng'>Feature Engineering</a>\n",
    "#### 5. <a href='#visualization'>Data Visualization</a>\n",
    "51. <a href='#time'>Dispersion over time</a>\n",
    "52. <a href='#amount'>Dispersion over amount</a>\n",
    "53. <a href='#error'>Dispersion over error in balance in destination accounts</a>\n",
    "54. <a href='#separation'>Separating out genuine from fraudulent transactions</a>\n",
    "51. <a href='#correlation'>Fingerprints of genuine and fraudulent transactions</a>\n",
    "\n",
    "#### 6. <a href='#ML'>Machine Learning to Detect Fraud in Skewed Data</a>\n",
    "61. <a href='#importance'>What are the important features for the ML model?</a>\n",
    "62. <a href='#decision-tree'>Visualization of ML model</a>\n",
    "63. <a href='#learning-curve'>Bias-variance tradeoff</a>\n",
    "\n",
    "#### 7. <a href='#conclusion'>Conclusion</a>"
   ]
  },
  {
   "cell_type": "markdown",
   "id": "948fad46",
   "metadata": {
    "_cell_guid": "1f073780-2735-4481-a80c-87ed3cfc9d6a",
    "_uuid": "4409f927b742283f1024982d00585deae5e57976"
   },
   "source": [
    "<a id='EDA'></a>\n",
    "#### 2. Exploratory Data Analysis\n",
    "In this section and until section 4, we wrangle with the data exclusively using Dataframe methods. This is the most succinct way to gain insights into the dataset. More elaborate visualizations follow in subsequent sections. "
   ]
  },
  {
   "cell_type": "markdown",
   "id": "b89ece88",
   "metadata": {
    "_cell_guid": "cdd94133-5730-4f31-9a7e-c23c1322edb2",
    "_uuid": "a5b91ecc33d7f51bec7e5e357edef789e2459d12"
   },
   "source": [
    "From the exploratory data analysis (EDA) of section <a href='#EDA#'>2</a>, we know that fraud only occurs in \n",
    "'TRANSFER's and 'CASH_OUT's. So we assemble only the corresponding data in X\n",
    "for analysis."
   ]
  },
  {
   "cell_type": "markdown",
   "id": "866a3021",
   "metadata": {},
   "source": [
    "\n",
    "## 🧠 Summary: What Did We Learn?\n",
    "- The dataset is highly imbalanced (~6% fraud).\n",
    "- Fraud tends to occur more with **TRANSFER** and **CASH_OUT** types.\n",
    "- Fraudulent transactions often involve **large amounts**.\n",
    "- Some patterns in balances and recipient types could be useful features.\n",
    "\n",
    "These observations will guide our modeling decisions — and help us avoid common traps in fraud detection tasks.\n"
   ]
  }
 ],
 "metadata": {
  "language_info": {
   "codemirror_mode": {
    "name": "ipython",
    "version": 3
   },
   "file_extension": ".py",
   "mimetype": "text/x-python",
   "name": "python",
   "nbconvert_exporter": "python",
   "pygments_lexer": "ipython3",
   "version": "3.11.8"
  }
 },
 "nbformat": 4,
 "nbformat_minor": 5
}
