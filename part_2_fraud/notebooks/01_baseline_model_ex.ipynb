{
 "cells": [
  {
   "cell_type": "markdown",
   "id": "73ccf5b0",
   "metadata": {},
   "source": [
    "# 📓 01_baseline_model_student.ipynb\n",
    "**Detecting Fraud — Baseline Model & Evaluation**\n",
    "\n",
    "🎓 *This is the student version. Follow the prompts and fill in the missing code to complete the notebook.*"
   ]
  },
  {
   "cell_type": "code",
   "execution_count": null,
   "id": "38bbe160",
   "metadata": {},
   "outputs": [],
   "source": [
    "# 🧰 Imports\n",
    "import pandas as pd\n",
    "import matplotlib.pyplot as plt\n",
    "import seaborn as sns\n",
    "from sklearn.model_selection import train_test_split\n",
    "from sklearn.ensemble import RandomForestClassifier\n",
    "from sklearn.metrics import classification_report, roc_auc_score\n",
    "\n",
    "# Custom helper (already implemented)\n",
    "from utils.metrics_helpers import plot_confusion_matrix\n",
    "\n",
    "sns.set(style='whitegrid')"
   ]
  },
  {
   "cell_type": "code",
   "execution_count": null,
   "id": "b8cc66f1",
   "metadata": {},
   "outputs": [],
   "source": [
    "# 📥 Load the dataset\n",
    "df = pd.read_csv('../data/imbl_fraud.csv')\n",
    "df.head()"
   ]
  },
  {
   "cell_type": "code",
   "execution_count": null,
   "id": "af5d444d",
   "metadata": {},
   "outputs": [],
   "source": [
    "# 📊 Explore class distribution\n",
    "# TASK: Print normalized class distribution of `isFraud`\n",
    "# Hint: use value_counts(normalize=True)\n",
    "\n",
    "# YOUR CODE HERE\n"
   ]
  },
  {
   "cell_type": "code",
   "execution_count": null,
   "id": "bfe8c3f7",
   "metadata": {},
   "outputs": [],
   "source": [
    "# TASK: Plot class distribution with seaborn\n",
    "# Hint: use sns.countplot()\n",
    "\n",
    "# YOUR CODE HERE\n"
   ]
  },
  {
   "cell_type": "code",
   "execution_count": null,
   "id": "4c41538e",
   "metadata": {},
   "outputs": [],
   "source": [
    "# 📦 Optional: EDA on transaction amounts\n",
    "# TASK: Create a boxplot of amount by type (y on log scale)\n",
    "# Hint: Use sns.boxplot, plt.yscale('log')\n",
    "\n",
    "# YOUR CODE HERE\n"
   ]
  },
  {
   "cell_type": "code",
   "execution_count": null,
   "id": "d83f2e84",
   "metadata": {},
   "outputs": [],
   "source": [
    "# 🧹 Prepare data for modeling\n",
    "# TASK: Drop unwanted columns and one-hot encode 'type'\n",
    "# Hint: Drop name* and balance columns, then use pd.get_dummies()\n",
    "\n",
    "# YOUR CODE HERE\n",
    "\n",
    "# y = df['isFraud']\n",
    "# X_train, X_test, y_train, y_test = train_test_split(...)"
   ]
  },
  {
   "cell_type": "code",
   "execution_count": null,
   "id": "0a9d6533",
   "metadata": {},
   "outputs": [],
   "source": [
    "# 🤖 Train a baseline Random Forest model\n",
    "# Hint: Use RandomForestClassifier with 100 trees\n",
    "\n",
    "# YOUR CODE HERE\n"
   ]
  },
  {
   "cell_type": "code",
   "execution_count": null,
   "id": "397b5d5e",
   "metadata": {},
   "outputs": [],
   "source": [
    "# 📈 Evaluate the model\n",
    "# TASK: Predict, then show confusion matrix and classification report\n",
    "# Hint: use helper `plot_confusion_matrix`, `classification_report`, and `roc_auc_score`\n",
    "\n",
    "# YOUR CODE HERE\n"
   ]
  },
  {
   "cell_type": "code",
   "execution_count": null,
   "id": "69b73c4d",
   "metadata": {},
   "outputs": [],
   "source": [
    "# 🧠 Reflection\n",
    "print(\"\"\"\n",
    "🤔 Discussion Prompt:\n",
    "- Our model got high accuracy. Is that enough?\n",
    "- Which metric would matter most to a bank investigating fraud cases?\n",
    "- How well is the model doing on detecting the fraud class (1)?\n",
    "\n",
    "We'll explore better methods in the next notebook!\n",
    "\"\"\")"
   ]
  }
 ],
 "metadata": {},
 "nbformat": 4,
 "nbformat_minor": 5
}
