{
 "cells": [
  {
   "cell_type": "markdown",
   "id": "98eec517-7cd5-4ca8-ab4c-deffec23875a",
   "metadata": {},
   "source": [
    "# Generate subsample datasets"
   ]
  },
  {
   "cell_type": "code",
   "execution_count": 1,
   "id": "b31525d7-9374-4442-a37a-87c732db605e",
   "metadata": {},
   "outputs": [],
   "source": [
    "import pandas as pd\n",
    "import numpy as np\n",
    "\n",
    "def subsample_paysim_data(\n",
    "    df,\n",
    "    total_size=10000,\n",
    "    fraud_ratio=0.1,\n",
    "    transaction_types=None,\n",
    "    random_state=42\n",
    "):\n",
    "    \"\"\"\n",
    "    Subsample the PaySim dataset.\n",
    "\n",
    "    Parameters:\n",
    "    - df (DataFrame): Full PaySim dataset.\n",
    "    - total_size (int): Total size of the subsample.\n",
    "    - fraud_ratio (float): Desired ratio of fraud cases in the sample (between 0 and 1).\n",
    "    - transaction_types (list): List of transaction types to include (e.g., ['TRANSFER', 'CASH_OUT']).\n",
    "    - random_state (int): For reproducibility.\n",
    "\n",
    "    Returns:\n",
    "    - DataFrame: Subsampled PaySim data.\n",
    "    \"\"\"\n",
    "    \n",
    "    np.random.seed(random_state)\n",
    "\n",
    "    # Filter by transaction types\n",
    "    if transaction_types is not None:\n",
    "        df = df[df['type'].isin(transaction_types)]\n",
    "    \n",
    "    # Separate fraud and non-fraud\n",
    "    fraud_df = df[df['isFraud'] == 1]\n",
    "    nonfraud_df = df[df['isFraud'] == 0]\n",
    "\n",
    "    # Determine number of fraud and non-fraud samples\n",
    "    n_fraud = int(total_size * fraud_ratio)\n",
    "    n_nonfraud = total_size - n_fraud\n",
    "\n",
    "    # Safety checks\n",
    "    n_fraud = min(n_fraud, len(fraud_df))\n",
    "    n_nonfraud = min(n_nonfraud, len(nonfraud_df))\n",
    "\n",
    "    # Sample each class\n",
    "    fraud_sample = fraud_df.sample(n=n_fraud, random_state=random_state)\n",
    "    nonfraud_sample = nonfraud_df.sample(n=n_nonfraud, random_state=random_state)\n",
    "\n",
    "    # Combine and shuffle\n",
    "    sampled_df = pd.concat([fraud_sample, nonfraud_sample]).sample(frac=1, random_state=random_state).reset_index(drop=True)\n",
    "\n",
    "    # Always remove isFlaggedFraud as it's useless and confusing\n",
    "    sampled_df = sampled_df.drop('isFlaggedFraud', axis=1)\n",
    "    return sampled_df"
   ]
  },
  {
   "cell_type": "code",
   "execution_count": 3,
   "id": "f6bf3db5-7c90-4fa7-997b-7aa25d9a73c9",
   "metadata": {},
   "outputs": [
    {
     "name": "stdout",
     "output_type": "stream",
     "text": [
      "/Users/shaypalachy/data/mta/fraud/paysim_original_dataset.csv\n"
     ]
    }
   ],
   "source": [
    "import os\n",
    "\n",
    "dataset_path = \"~/data/mta/fraud/paysim_original_dataset.csv\"\n",
    "dataset_path = os.path.expanduser(dataset_path)\n",
    "\n",
    "print(dataset_path)"
   ]
  },
  {
   "cell_type": "code",
   "execution_count": 4,
   "id": "b1dde1ad-613e-4e32-b5e6-9c460cb5ad03",
   "metadata": {},
   "outputs": [],
   "source": [
    "# Load the dataset\n",
    "df = pd.read_csv(dataset_path)"
   ]
  },
  {
   "cell_type": "code",
   "execution_count": 5,
   "id": "34c3bd56-6f0a-4b7c-addc-1f5f7c377ac7",
   "metadata": {},
   "outputs": [
    {
     "name": "stdout",
     "output_type": "stream",
     "text": [
      "0    8000\n",
      "1    2000\n",
      "Name: isFraud, dtype: int64\n",
      "CASH_OUT    7526\n",
      "TRANSFER    2474\n",
      "Name: type, dtype: int64\n"
     ]
    }
   ],
   "source": [
    "# Get a 10k sample, 20% fraud, only TRANSFER and CASH_OUT transactions\n",
    "sample_1_df = subsample_paysim_data(\n",
    "    df,\n",
    "    total_size=10000,\n",
    "    fraud_ratio=0.2,\n",
    "    transaction_types=[\"TRANSFER\", \"CASH_OUT\"]\n",
    ")\n",
    "\n",
    "print(sample_1_df['isFraud'].value_counts())\n",
    "print(sample_1_df['type'].value_counts())"
   ]
  },
  {
   "cell_type": "code",
   "execution_count": 8,
   "id": "bf6d95b1-c5be-49ad-9c12-ff9e8a90839c",
   "metadata": {},
   "outputs": [
    {
     "name": "stdout",
     "output_type": "stream",
     "text": [
      "0    37543\n",
      "1     2457\n",
      "Name: isFraud, dtype: int64\n",
      "CASH_OUT    31630\n",
      "TRANSFER     8370\n",
      "Name: type, dtype: int64\n"
     ]
    }
   ],
   "source": [
    "# Get a 40k sample, 6% fraud, only TRANSFER and CASH_OUT transactions\n",
    "sample_2_df = subsample_paysim_data(\n",
    "    df,\n",
    "    total_size=40000,\n",
    "    fraud_ratio=0.0614481,\n",
    "    transaction_types=[\"TRANSFER\", \"CASH_OUT\"]\n",
    ")\n",
    "\n",
    "print(sample_2_df['isFraud'].value_counts())\n",
    "print(sample_2_df['type'].value_counts())"
   ]
  },
  {
   "cell_type": "code",
   "execution_count": 10,
   "id": "7c27e089-ca20-4d19-ad2a-6381c7cbd299",
   "metadata": {},
   "outputs": [
    {
     "data": {
      "text/plain": [
       "Index(['step', 'type', 'amount', 'nameOrig', 'oldbalanceOrg', 'newbalanceOrig',\n",
       "       'nameDest', 'oldbalanceDest', 'newbalanceDest', 'isFraud',\n",
       "       'isFlaggedFraud'],\n",
       "      dtype='object')"
      ]
     },
     "execution_count": 10,
     "metadata": {},
     "output_type": "execute_result"
    }
   ],
   "source": [
    "sample_2_df.columns"
   ]
  },
  {
   "cell_type": "code",
   "execution_count": 13,
   "id": "14d55cac-f18f-4681-81e0-3c9fff42bcae",
   "metadata": {},
   "outputs": [],
   "source": [
    "sample_2_df.to_csv(\"imbl_fraud.csv\", index=False)"
   ]
  },
  {
   "cell_type": "markdown",
   "id": "b9e30438-7a85-4df1-b5b0-5f8d1727282c",
   "metadata": {},
   "source": [
    "## Train test Split"
   ]
  },
  {
   "cell_type": "code",
   "execution_count": 1,
   "id": "77bdec0e-569f-4cfd-bfe3-af6889fa9e47",
   "metadata": {},
   "outputs": [],
   "source": [
    "import pandas as pd\n",
    "from sklearn.model_selection import train_test_split"
   ]
  },
  {
   "cell_type": "code",
   "execution_count": 2,
   "id": "f5d9701f-f42b-422e-81f4-049521e14c5b",
   "metadata": {},
   "outputs": [],
   "source": [
    "# Load data\n",
    "df = pd.read_csv(\"../data/imbl_fraud.csv\")"
   ]
  },
  {
   "cell_type": "code",
   "execution_count": 3,
   "id": "bd2cc322-3601-4504-8211-74224ded90de",
   "metadata": {},
   "outputs": [],
   "source": [
    "# Separate features and target\n",
    "X = df.drop(columns=[\"isFraud\"])\n",
    "y = df[\"isFraud\"]"
   ]
  },
  {
   "cell_type": "code",
   "execution_count": 4,
   "id": "0a5297c4-6fdf-44d5-9d7f-94924ca65ba9",
   "metadata": {},
   "outputs": [],
   "source": [
    "# Perform a stratified train-test split\n",
    "X_train, X_test, y_train, y_test = train_test_split(\n",
    "    X, y, \n",
    "    test_size=0.3,       # 30% test set\n",
    "    stratify=y,          # preserve class ratio\n",
    "    random_state=42      # reproducibility\n",
    ")"
   ]
  },
  {
   "cell_type": "code",
   "execution_count": 5,
   "id": "d13c1eed-b9ef-4652-8e7f-8705f96c4ec2",
   "metadata": {},
   "outputs": [],
   "source": [
    "# Optionally join features and labels for inspection\n",
    "train_data = pd.concat([X_train, y_train], axis=1)\n",
    "test_data = pd.concat([X_test, y_test], axis=1)"
   ]
  },
  {
   "cell_type": "code",
   "execution_count": 6,
   "id": "66329b3d-1b1d-49ce-b553-742f37c7cb10",
   "metadata": {},
   "outputs": [
    {
     "name": "stdout",
     "output_type": "stream",
     "text": [
      "Training set fraud rate: 0.06142857142857143\n",
      "Test set fraud rate: 0.06141666666666667\n"
     ]
    }
   ],
   "source": [
    "# Confirm the stratification\n",
    "print(\"Training set fraud rate:\", y_train.mean())\n",
    "print(\"Test set fraud rate:\", y_test.mean())"
   ]
  },
  {
   "cell_type": "code",
   "execution_count": 7,
   "id": "f0006566-3a8a-4923-989b-597956bddabd",
   "metadata": {},
   "outputs": [
    {
     "name": "stdout",
     "output_type": "stream",
     "text": [
      "✅ Files saved: train_fraud.csv and test_fraud.csv\n"
     ]
    }
   ],
   "source": [
    "# Save to CSV\n",
    "train_data.to_csv(\"../data/train_fraud.csv\", index=False)\n",
    "test_data.to_csv(\"../data/test_fraud.csv\", index=False)\n",
    "\n",
    "print(\"✅ Files saved: train_fraud.csv and test_fraud.csv\")"
   ]
  },
  {
   "cell_type": "code",
   "execution_count": null,
   "id": "3e7987a7-8133-445e-b859-f3764a7138cf",
   "metadata": {},
   "outputs": [],
   "source": []
  }
 ],
 "metadata": {
  "kernelspec": {
   "display_name": "py3",
   "language": "python",
   "name": "py3"
  },
  "language_info": {
   "codemirror_mode": {
    "name": "ipython",
    "version": 3
   },
   "file_extension": ".py",
   "mimetype": "text/x-python",
   "name": "python",
   "nbconvert_exporter": "python",
   "pygments_lexer": "ipython3",
   "version": "3.10.2"
  }
 },
 "nbformat": 4,
 "nbformat_minor": 5
}
