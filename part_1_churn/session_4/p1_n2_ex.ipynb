{
 "cells": [
  {
   "cell_type": "markdown",
   "id": "b200d27d-6bca-4661-b789-570c691bc54c",
   "metadata": {},
   "source": [
    " # Notebook 2: Handling Imbalance with SMOTE and BalancedRandomForest + HPO"
   ]
  },
  {
   "cell_type": "markdown",
   "id": "46dcd126-4a09-4d47-8769-01b590634c8a",
   "metadata": {},
   "source": [
    "## 1. Setup"
   ]
  },
  {
   "cell_type": "code",
   "execution_count": null,
   "id": "efb7ff27-e8bf-4cab-adbd-5b26898c1780",
   "metadata": {},
   "outputs": [],
   "source": [
    "import pandas as pd\n",
    "import matplotlib.pyplot as plt\n",
    "import seaborn as sns\n",
    "from sklearn.model_selection import train_test_split, GridSearchCV\n",
    "from sklearn.metrics import classification_report, confusion_matrix, roc_auc_score, roc_curve\n",
    "from sklearn.ensemble import RandomForestClassifier\n",
    "from imblearn.over_sampling import SMOTE\n",
    "from imblearn.ensemble import BalancedRandomForestClassifier"
   ]
  },
  {
   "cell_type": "markdown",
   "id": "cc06be60-eed4-4aa2-b522-39cdabd6b573",
   "metadata": {},
   "source": [
    "## 2. Load Data"
   ]
  },
  {
   "cell_type": "code",
   "execution_count": null,
   "id": "054d3bf5-7373-4a14-9712-a82a379cc1f3",
   "metadata": {},
   "outputs": [],
   "source": [
    "train = pd.read_csv(\"imbtrain.csv\", na_values=[], keep_default_na=False)\n",
    "test = pd.read_csv(\"imbtest.csv\", na_values=[], keep_default_na=False)"
   ]
  },
  {
   "cell_type": "code",
   "execution_count": null,
   "id": "99d8f92c-82f8-4cab-add8-6e5820f95947",
   "metadata": {},
   "outputs": [],
   "source": [
    "train.head(5)"
   ]
  },
  {
   "cell_type": "code",
   "execution_count": null,
   "id": "49d57353-9839-4197-bdc7-2bed494aa2e5",
   "metadata": {},
   "outputs": [],
   "source": [
    "train['Churn'].value_counts()"
   ]
  },
  {
   "cell_type": "code",
   "execution_count": null,
   "id": "749ce301-9489-41da-b543-d71c25102727",
   "metadata": {},
   "outputs": [],
   "source": [
    "train['Churn'].value_counts(normalize=True)"
   ]
  },
  {
   "cell_type": "code",
   "execution_count": null,
   "id": "2ea2b97f-014c-4019-8ef1-5fb623aa9df1",
   "metadata": {},
   "outputs": [],
   "source": [
    "test['Churn'].value_counts()"
   ]
  },
  {
   "cell_type": "code",
   "execution_count": null,
   "id": "1d9fa4d5-3201-481b-a3da-60dc2bbd44f5",
   "metadata": {},
   "outputs": [],
   "source": [
    "test['Churn'].value_counts(normalize=True)"
   ]
  },
  {
   "cell_type": "markdown",
   "id": "62adc20d-5f9c-4cd8-9fc1-123074583a90",
   "metadata": {},
   "source": [
    "## 3. Preprocessing"
   ]
  },
  {
   "cell_type": "code",
   "execution_count": null,
   "id": "9d4c1a7d-8af0-4f2d-985f-718fb79f7037",
   "metadata": {},
   "outputs": [],
   "source": [
    "def preprocess(df):\n",
    "    # TODO: copy our preprocess function from part 1 and augment it anyway you like\n",
    "    return df"
   ]
  },
  {
   "cell_type": "code",
   "execution_count": null,
   "id": "00ab6b60-18ce-4463-abd0-8022c7aa3d45",
   "metadata": {},
   "outputs": [],
   "source": [
    "post_train = preprocess(train)\n",
    "post_test = preprocess(test)"
   ]
  },
  {
   "cell_type": "code",
   "execution_count": null,
   "id": "2e4a1553-6d57-47cd-b3f8-9bc5b4f993b7",
   "metadata": {},
   "outputs": [],
   "source": [
    "post_train.head(5)"
   ]
  },
  {
   "cell_type": "code",
   "execution_count": null,
   "id": "3d69703d-3c1e-42a1-995f-d1300e3f20cb",
   "metadata": {},
   "outputs": [],
   "source": [
    "X_train = post_train.drop('Churn', axis=1)\n",
    "y_train = post_train['Churn']\n",
    "X_test = post_test.drop('Churn', axis=1)\n",
    "y_test = post_test['Churn']"
   ]
  },
  {
   "cell_type": "code",
   "execution_count": null,
   "id": "0c7be7b9-7493-4433-a38d-a17019167bf7",
   "metadata": {},
   "outputs": [],
   "source": [
    "X_train.head(5)"
   ]
  },
  {
   "cell_type": "code",
   "execution_count": null,
   "id": "09531a55-034b-4a27-9b5c-ace9321244c7",
   "metadata": {},
   "outputs": [],
   "source": [
    "y_train.head(5)"
   ]
  },
  {
   "cell_type": "markdown",
   "id": "86db1e6c-a0a2-42db-a543-86ab13016b90",
   "metadata": {},
   "source": [
    "#### Helper function for evaluation"
   ]
  },
  {
   "cell_type": "code",
   "execution_count": null,
   "id": "ed0547b3-bb1f-48ac-a6ae-ca600e5505d7",
   "metadata": {},
   "outputs": [],
   "source": [
    "from utils import evaluate_model"
   ]
  },
  {
   "cell_type": "markdown",
   "id": "5e6f82fe-336b-4e19-8fd1-8ec40a763bc4",
   "metadata": {},
   "source": [
    "## 4.a. Random Forest"
   ]
  },
  {
   "cell_type": "code",
   "execution_count": null,
   "id": "db68ba69-fba1-4ca7-8def-3f92a378733a",
   "metadata": {},
   "outputs": [],
   "source": [
    "# TODO: Fit a Random Forest classifier over the imbalanced dataset and evaluate it\n",
    "# clf = ?\n",
    "evaluate_model(clf, X_test, y_test, \"Minority Class Oversampling + Random Forest\")"
   ]
  },
  {
   "cell_type": "markdown",
   "id": "4bdc2d5c-7df1-4f2f-86a4-2d586bd2cb85",
   "metadata": {},
   "source": [
    "## 4.b. Minority Class Oversampling + Random Forest"
   ]
  },
  {
   "cell_type": "code",
   "execution_count": null,
   "id": "3dd0ecaf-0f96-4dcf-9e6d-db4f14caf4ed",
   "metadata": {},
   "outputs": [],
   "source": [
    "from imblearn.over_sampling import RandomOverSampler\n",
    "from collections import Counter\n",
    "\n",
    "# TODO: Oversample the minority class\n",
    "X_mcos, y_mcos = ?\n",
    "\n",
    "print(\"After Random Oversampling:\", Counter(y_mcos))\n",
    "\n",
    "# TODO: fit RandomForest over the new dataset and evaluate it"
   ]
  },
  {
   "cell_type": "code",
   "execution_count": 1,
   "id": "4451b35f-6554-4217-8688-e3195f47ad46",
   "metadata": {},
   "outputs": [],
   "source": [
    "# TODO: Use sampling_strategy=0.3 to more gently oversample the minority class "
   ]
  },
  {
   "cell_type": "markdown",
   "id": "68333a72-5cfe-4f40-be53-766d70d12516",
   "metadata": {},
   "source": [
    "## 4.c. Majority Class Undersampling + Random Forest"
   ]
  },
  {
   "cell_type": "code",
   "execution_count": null,
   "id": "9b1b6382-1cd6-416d-8396-655b8b3a65f6",
   "metadata": {},
   "outputs": [],
   "source": [
    "from imblearn.under_sampling import RandomUnderSampler\n",
    "# TODO: Undersample the majority class\n",
    "# X_mcus, y_mcus = ?\n",
    "print(\"After Random Undersampling:\", Counter(y_mcus))\n",
    "# TODO: fit RandomForest over the new dataset and evaluate it"
   ]
  },
  {
   "cell_type": "code",
   "execution_count": null,
   "id": "3663a750-3a70-4ddd-aff8-1196afbaace7",
   "metadata": {},
   "outputs": [],
   "source": [
    "# TODO: Use sampling_strategy=0.3 to more gently oversample the minority class "
   ]
  },
  {
   "cell_type": "markdown",
   "id": "65807caf-3817-4010-bf29-6ad0cf67c1e3",
   "metadata": {},
   "source": [
    "## 4.d. Majority + Minority Class Under/oversampling + Random Forest"
   ]
  },
  {
   "cell_type": "code",
   "execution_count": null,
   "id": "8bafddbf-4a4c-4d4e-8963-f568c640eb73",
   "metadata": {},
   "outputs": [],
   "source": [
    "# TODO: Oversample and then undersample\n",
    "X_temp, y_temp = ?\n",
    "X_combo, y_combo = ?\n",
    "\n",
    "print(\"After Combined Sampling:\", Counter(y_combo))\n",
    "# TODO: fit RandomForest over the new dataset and evaluate it"
   ]
  },
  {
   "cell_type": "markdown",
   "id": "33627847-b084-4ffb-ae93-c03dda6261dd",
   "metadata": {},
   "source": [
    "## 4.e SMOTE + Regular Random Forest"
   ]
  },
  {
   "cell_type": "code",
   "execution_count": null,
   "id": "905d1a8a-b275-424e-b994-3138aabc6d5c",
   "metadata": {},
   "outputs": [],
   "source": [
    "from imblearn.over_sampling import SMOTE"
   ]
  },
  {
   "cell_type": "code",
   "execution_count": null,
   "id": "06415122-a846-4af7-a1f1-4d703f11dd9d",
   "metadata": {},
   "outputs": [],
   "source": [
    "smote = SMOTE(random_state=42)\n",
    "# TODO: Use SMOTE to get new X and y from training, with more fraud cases!\n",
    "# documentation: https://imbalanced-learn.org/stable/references/generated/imblearn.over_sampling.SMOTE.html\n",
    "# X_sm, y_sm = ?\n",
    "# TODO: Fit a random forest classifier over the augmented training data\n",
    "# clf_smote = ?\n",
    "evaluate_model(clf_smote, X_test, y_test, \"SMOTE + Random Forest\")"
   ]
  },
  {
   "cell_type": "markdown",
   "id": "5cce2500-697c-408f-b8f1-b0936308d240",
   "metadata": {},
   "source": [
    "### 4.5. SMOTE + Regular Random Forest w/ HPO"
   ]
  },
  {
   "cell_type": "code",
   "execution_count": null,
   "id": "5a2e0ba4-3fd0-43d5-b66d-6b09ff81071b",
   "metadata": {},
   "outputs": [],
   "source": [
    "from sklearn.model_selection import GridSearchCV"
   ]
  },
  {
   "cell_type": "code",
   "execution_count": null,
   "id": "a5857fa5-2217-410b-8455-8cd1b09e6529",
   "metadata": {},
   "outputs": [],
   "source": [
    "# TODO: Define a dict with hyperparameters to optimize/tune: Use n_estimators and max_depth.\n",
    "# What is a good range for them? Consult the internet.\n",
    "# rf_params = ?\n",
    "# Use the GridSearchCV class to automatically fit and evaluate many RandomForest classifiers\n",
    "# with different values for these hyperparameters, and also automatically find the best performing one.\n",
    "# best performing how? Notice the `scoring` argument!\n",
    "# gs_rf = ?\n",
    "evaluate_model(gs_rf.best_estimator_, X_test, y_test, \"SMOTE + Random Forest (HPO)\")"
   ]
  },
  {
   "cell_type": "markdown",
   "id": "63b24d95-6756-4fb3-9faf-624cf9448ccc",
   "metadata": {},
   "source": [
    "## 5. Balanced Random Forest (no SMOTE)"
   ]
  },
  {
   "cell_type": "code",
   "execution_count": null,
   "id": "fec0526c-5111-4bc1-849a-c3bace6b21cf",
   "metadata": {},
   "outputs": [],
   "source": [
    "from imblearn.ensemble import BalancedRandomForestClassifier"
   ]
  },
  {
   "cell_type": "code",
   "execution_count": null,
   "id": "bd926984-9279-49de-a06a-0f6988eb2fe3",
   "metadata": {},
   "outputs": [],
   "source": [
    "# TODO: Find a BALANCED version of the random forest classifier in the `imblearn` python package.\n",
    "# Import it. Create a classifier. Fit it on the REGULAR imbalanced dataset (NOT the one you augmented with SMOTE).\n",
    "# Then, evaluate it.\n",
    "# from imblearn.? import ?\n",
    "# clf_balrf = ?\n",
    "evaluate_model(clf_balrf, X_test, y_test, \"Balanced Random Forest Only\")"
   ]
  },
  {
   "cell_type": "markdown",
   "id": "1845a4fb-26e0-48e8-9a62-e65e969ca364",
   "metadata": {},
   "source": [
    "### 5.5. Balanced Random Forest (no SMOTE) w/ HPO"
   ]
  },
  {
   "cell_type": "code",
   "execution_count": null,
   "id": "1ffc44a0-4674-4d29-8318-203a5c31f106",
   "metadata": {},
   "outputs": [],
   "source": [
    "# TODO: Use GridSearchCV to find the best hyperparameters for the balanced random forest.\n",
    "# Pick 2 or 3 hyperparameters. You can use the same ones, or explore the class definition to choose others.\n",
    "# brf_params = ?\n",
    "# gs_brf = ?\n",
    "evaluate_model(gs_brf.best_estimator_, X_test, y_test, \"Balanced Random Forest Only (HPO)\")"
   ]
  },
  {
   "cell_type": "markdown",
   "id": "d0005103-aa55-4466-b49e-aa4b90b2411f",
   "metadata": {},
   "source": [
    "## 6. SMOTE + Balanced Random Forest"
   ]
  },
  {
   "cell_type": "code",
   "execution_count": null,
   "id": "5030e61d-4001-4b82-ae78-fa9395559d17",
   "metadata": {},
   "outputs": [],
   "source": [
    "# TODO: Create a new balabced random forest classifier,\n",
    "# and fit it on the SMOTE-augmented data. Then evaluate it.\n",
    "# clf_comb = ?\n",
    "evaluate_model(clf_comb, X_test, y_test, \"SMOTE + Balanced Random Forest\")"
   ]
  },
  {
   "cell_type": "code",
   "execution_count": null,
   "id": "2315cbe2-a475-406e-b80c-ccbaf0fefc42",
   "metadata": {},
   "outputs": [],
   "source": []
  },
  {
   "cell_type": "code",
   "execution_count": null,
   "id": "60264c76-4776-4cc2-9f51-31d31f65533b",
   "metadata": {},
   "outputs": [],
   "source": []
  }
 ],
 "metadata": {
  "kernelspec": {
   "display_name": "py3",
   "language": "python",
   "name": "py3"
  },
  "language_info": {
   "codemirror_mode": {
    "name": "ipython",
    "version": 3
   },
   "file_extension": ".py",
   "mimetype": "text/x-python",
   "name": "python",
   "nbconvert_exporter": "python",
   "pygments_lexer": "ipython3",
   "version": "3.10.2"
  }
 },
 "nbformat": 4,
 "nbformat_minor": 5
}
