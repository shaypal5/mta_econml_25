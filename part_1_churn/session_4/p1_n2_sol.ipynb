{
 "cells": [
  {
   "cell_type": "markdown",
   "id": "b200d27d-6bca-4661-b789-570c691bc54c",
   "metadata": {},
   "source": [
    " # Notebook 2: Handling Imbalance with SMOTE and BalancedRandomForest + HPO"
   ]
  },
  {
   "cell_type": "markdown",
   "id": "46dcd126-4a09-4d47-8769-01b590634c8a",
   "metadata": {},
   "source": [
    "## 1. Setup"
   ]
  },
  {
   "cell_type": "code",
   "execution_count": 1,
   "id": "efb7ff27-e8bf-4cab-adbd-5b26898c1780",
   "metadata": {},
   "outputs": [],
   "source": [
    "import pandas as pd\n",
    "import matplotlib.pyplot as plt\n",
    "import seaborn as sns\n",
    "from sklearn.model_selection import train_test_split, GridSearchCV\n",
    "from sklearn.metrics import classification_report, confusion_matrix, roc_auc_score, roc_curve\n",
    "from sklearn.ensemble import RandomForestClassifier\n",
    "from imblearn.over_sampling import SMOTE\n",
    "from imblearn.ensemble import BalancedRandomForestClassifier"
   ]
  },
  {
   "cell_type": "markdown",
   "id": "cc06be60-eed4-4aa2-b522-39cdabd6b573",
   "metadata": {},
   "source": [
    "## 2. Load Data"
   ]
  },
  {
   "cell_type": "code",
   "execution_count": 2,
   "id": "054d3bf5-7373-4a14-9712-a82a379cc1f3",
   "metadata": {},
   "outputs": [],
   "source": [
    "train = pd.read_csv(\"imbtrain.csv\", na_values=[], keep_default_na=False)\n",
    "test = pd.read_csv(\"imbtest.csv\", na_values=[], keep_default_na=False)"
   ]
  },
  {
   "cell_type": "code",
   "execution_count": 3,
   "id": "99d8f92c-82f8-4cab-add8-6e5820f95947",
   "metadata": {},
   "outputs": [
    {
     "data": {
      "text/html": [
       "<div>\n",
       "<style scoped>\n",
       "    .dataframe tbody tr th:only-of-type {\n",
       "        vertical-align: middle;\n",
       "    }\n",
       "\n",
       "    .dataframe tbody tr th {\n",
       "        vertical-align: top;\n",
       "    }\n",
       "\n",
       "    .dataframe thead th {\n",
       "        text-align: right;\n",
       "    }\n",
       "</style>\n",
       "<table border=\"1\" class=\"dataframe\">\n",
       "  <thead>\n",
       "    <tr style=\"text-align: right;\">\n",
       "      <th></th>\n",
       "      <th>State</th>\n",
       "      <th>Account length</th>\n",
       "      <th>Area code</th>\n",
       "      <th>International plan</th>\n",
       "      <th>Voice mail plan</th>\n",
       "      <th>Number vmail messages</th>\n",
       "      <th>Total day minutes</th>\n",
       "      <th>Total day calls</th>\n",
       "      <th>Total day charge</th>\n",
       "      <th>Total eve minutes</th>\n",
       "      <th>Total eve calls</th>\n",
       "      <th>Total eve charge</th>\n",
       "      <th>Total night minutes</th>\n",
       "      <th>Total night calls</th>\n",
       "      <th>Total night charge</th>\n",
       "      <th>Total intl minutes</th>\n",
       "      <th>Total intl calls</th>\n",
       "      <th>Total intl charge</th>\n",
       "      <th>Customer service calls</th>\n",
       "      <th>Churn</th>\n",
       "    </tr>\n",
       "  </thead>\n",
       "  <tbody>\n",
       "    <tr>\n",
       "      <th>0</th>\n",
       "      <td>ME</td>\n",
       "      <td>66</td>\n",
       "      <td>510</td>\n",
       "      <td>No</td>\n",
       "      <td>No</td>\n",
       "      <td>0</td>\n",
       "      <td>118.0</td>\n",
       "      <td>133</td>\n",
       "      <td>20.06</td>\n",
       "      <td>248.1</td>\n",
       "      <td>99</td>\n",
       "      <td>21.09</td>\n",
       "      <td>214.4</td>\n",
       "      <td>122</td>\n",
       "      <td>9.65</td>\n",
       "      <td>5.3</td>\n",
       "      <td>5</td>\n",
       "      <td>1.43</td>\n",
       "      <td>1</td>\n",
       "      <td>False</td>\n",
       "    </tr>\n",
       "    <tr>\n",
       "      <th>1</th>\n",
       "      <td>AR</td>\n",
       "      <td>86</td>\n",
       "      <td>408</td>\n",
       "      <td>No</td>\n",
       "      <td>Yes</td>\n",
       "      <td>16</td>\n",
       "      <td>145.7</td>\n",
       "      <td>88</td>\n",
       "      <td>24.77</td>\n",
       "      <td>191.0</td>\n",
       "      <td>129</td>\n",
       "      <td>16.24</td>\n",
       "      <td>215.5</td>\n",
       "      <td>82</td>\n",
       "      <td>9.70</td>\n",
       "      <td>11.3</td>\n",
       "      <td>7</td>\n",
       "      <td>3.05</td>\n",
       "      <td>0</td>\n",
       "      <td>False</td>\n",
       "    </tr>\n",
       "    <tr>\n",
       "      <th>2</th>\n",
       "      <td>KS</td>\n",
       "      <td>65</td>\n",
       "      <td>415</td>\n",
       "      <td>No</td>\n",
       "      <td>Yes</td>\n",
       "      <td>34</td>\n",
       "      <td>208.8</td>\n",
       "      <td>119</td>\n",
       "      <td>35.50</td>\n",
       "      <td>142.1</td>\n",
       "      <td>106</td>\n",
       "      <td>12.08</td>\n",
       "      <td>214.6</td>\n",
       "      <td>87</td>\n",
       "      <td>9.66</td>\n",
       "      <td>12.5</td>\n",
       "      <td>4</td>\n",
       "      <td>3.38</td>\n",
       "      <td>4</td>\n",
       "      <td>False</td>\n",
       "    </tr>\n",
       "    <tr>\n",
       "      <th>3</th>\n",
       "      <td>WV</td>\n",
       "      <td>95</td>\n",
       "      <td>415</td>\n",
       "      <td>No</td>\n",
       "      <td>No</td>\n",
       "      <td>0</td>\n",
       "      <td>175.2</td>\n",
       "      <td>91</td>\n",
       "      <td>29.78</td>\n",
       "      <td>244.4</td>\n",
       "      <td>109</td>\n",
       "      <td>20.77</td>\n",
       "      <td>75.8</td>\n",
       "      <td>95</td>\n",
       "      <td>3.41</td>\n",
       "      <td>7.5</td>\n",
       "      <td>2</td>\n",
       "      <td>2.03</td>\n",
       "      <td>1</td>\n",
       "      <td>False</td>\n",
       "    </tr>\n",
       "    <tr>\n",
       "      <th>4</th>\n",
       "      <td>TN</td>\n",
       "      <td>105</td>\n",
       "      <td>408</td>\n",
       "      <td>No</td>\n",
       "      <td>No</td>\n",
       "      <td>0</td>\n",
       "      <td>206.2</td>\n",
       "      <td>84</td>\n",
       "      <td>35.05</td>\n",
       "      <td>256.4</td>\n",
       "      <td>138</td>\n",
       "      <td>21.79</td>\n",
       "      <td>117.1</td>\n",
       "      <td>91</td>\n",
       "      <td>5.27</td>\n",
       "      <td>9.0</td>\n",
       "      <td>3</td>\n",
       "      <td>2.43</td>\n",
       "      <td>1</td>\n",
       "      <td>False</td>\n",
       "    </tr>\n",
       "  </tbody>\n",
       "</table>\n",
       "</div>"
      ],
      "text/plain": [
       "  State  Account length  Area code International plan Voice mail plan  \\\n",
       "0    ME              66        510                 No              No   \n",
       "1    AR              86        408                 No             Yes   \n",
       "2    KS              65        415                 No             Yes   \n",
       "3    WV              95        415                 No              No   \n",
       "4    TN             105        408                 No              No   \n",
       "\n",
       "   Number vmail messages  Total day minutes  Total day calls  \\\n",
       "0                      0              118.0              133   \n",
       "1                     16              145.7               88   \n",
       "2                     34              208.8              119   \n",
       "3                      0              175.2               91   \n",
       "4                      0              206.2               84   \n",
       "\n",
       "   Total day charge  Total eve minutes  Total eve calls  Total eve charge  \\\n",
       "0             20.06              248.1               99             21.09   \n",
       "1             24.77              191.0              129             16.24   \n",
       "2             35.50              142.1              106             12.08   \n",
       "3             29.78              244.4              109             20.77   \n",
       "4             35.05              256.4              138             21.79   \n",
       "\n",
       "   Total night minutes  Total night calls  Total night charge  \\\n",
       "0                214.4                122                9.65   \n",
       "1                215.5                 82                9.70   \n",
       "2                214.6                 87                9.66   \n",
       "3                 75.8                 95                3.41   \n",
       "4                117.1                 91                5.27   \n",
       "\n",
       "   Total intl minutes  Total intl calls  Total intl charge  \\\n",
       "0                 5.3                 5               1.43   \n",
       "1                11.3                 7               3.05   \n",
       "2                12.5                 4               3.38   \n",
       "3                 7.5                 2               2.03   \n",
       "4                 9.0                 3               2.43   \n",
       "\n",
       "   Customer service calls  Churn  \n",
       "0                       1  False  \n",
       "1                       0  False  \n",
       "2                       4  False  \n",
       "3                       1  False  \n",
       "4                       1  False  "
      ]
     },
     "execution_count": 3,
     "metadata": {},
     "output_type": "execute_result"
    }
   ],
   "source": [
    "train.head(5)"
   ]
  },
  {
   "cell_type": "code",
   "execution_count": 4,
   "id": "49d57353-9839-4197-bdc7-2bed494aa2e5",
   "metadata": {},
   "outputs": [
    {
     "data": {
      "text/plain": [
       "False    2281\n",
       "True       81\n",
       "Name: Churn, dtype: int64"
      ]
     },
     "execution_count": 4,
     "metadata": {},
     "output_type": "execute_result"
    }
   ],
   "source": [
    "train['Churn'].value_counts()"
   ]
  },
  {
   "cell_type": "code",
   "execution_count": 5,
   "id": "749ce301-9489-41da-b543-d71c25102727",
   "metadata": {},
   "outputs": [
    {
     "data": {
      "text/plain": [
       "False    0.965707\n",
       "True     0.034293\n",
       "Name: Churn, dtype: float64"
      ]
     },
     "execution_count": 5,
     "metadata": {},
     "output_type": "execute_result"
    }
   ],
   "source": [
    "train['Churn'].value_counts(normalize=True)"
   ]
  },
  {
   "cell_type": "code",
   "execution_count": 6,
   "id": "2ea2b97f-014c-4019-8ef1-5fb623aa9df1",
   "metadata": {},
   "outputs": [
    {
     "data": {
      "text/plain": [
       "False    569\n",
       "True      22\n",
       "Name: Churn, dtype: int64"
      ]
     },
     "execution_count": 6,
     "metadata": {},
     "output_type": "execute_result"
    }
   ],
   "source": [
    "test['Churn'].value_counts()"
   ]
  },
  {
   "cell_type": "code",
   "execution_count": 7,
   "id": "1d9fa4d5-3201-481b-a3da-60dc2bbd44f5",
   "metadata": {},
   "outputs": [
    {
     "data": {
      "text/plain": [
       "False    0.962775\n",
       "True     0.037225\n",
       "Name: Churn, dtype: float64"
      ]
     },
     "execution_count": 7,
     "metadata": {},
     "output_type": "execute_result"
    }
   ],
   "source": [
    "test['Churn'].value_counts(normalize=True)"
   ]
  },
  {
   "cell_type": "markdown",
   "id": "62adc20d-5f9c-4cd8-9fc1-123074583a90",
   "metadata": {},
   "source": [
    "## 3. Preprocessing"
   ]
  },
  {
   "cell_type": "code",
   "execution_count": 8,
   "id": "9d4c1a7d-8af0-4f2d-985f-718fb79f7037",
   "metadata": {},
   "outputs": [],
   "source": [
    "def preprocess(df):\n",
    "    df = df.copy()\n",
    "    df['Churn'] = df['Churn'].map({True: 1, False: 0})\n",
    "    df['International plan'] = df['International plan'].map({'Yes': 1, 'No': 0})\n",
    "    df['Voice mail plan'] = df['Voice mail plan'].map({'Yes': 1, 'No': 0})\n",
    "    df = df.drop(columns=['State'])  # Drop high cardinality feature for now\n",
    "    return df"
   ]
  },
  {
   "cell_type": "code",
   "execution_count": 9,
   "id": "00ab6b60-18ce-4463-abd0-8022c7aa3d45",
   "metadata": {},
   "outputs": [],
   "source": [
    "post_train = preprocess(train)\n",
    "post_test = preprocess(test)"
   ]
  },
  {
   "cell_type": "code",
   "execution_count": 10,
   "id": "2e4a1553-6d57-47cd-b3f8-9bc5b4f993b7",
   "metadata": {},
   "outputs": [
    {
     "data": {
      "text/html": [
       "<div>\n",
       "<style scoped>\n",
       "    .dataframe tbody tr th:only-of-type {\n",
       "        vertical-align: middle;\n",
       "    }\n",
       "\n",
       "    .dataframe tbody tr th {\n",
       "        vertical-align: top;\n",
       "    }\n",
       "\n",
       "    .dataframe thead th {\n",
       "        text-align: right;\n",
       "    }\n",
       "</style>\n",
       "<table border=\"1\" class=\"dataframe\">\n",
       "  <thead>\n",
       "    <tr style=\"text-align: right;\">\n",
       "      <th></th>\n",
       "      <th>Account length</th>\n",
       "      <th>Area code</th>\n",
       "      <th>International plan</th>\n",
       "      <th>Voice mail plan</th>\n",
       "      <th>Number vmail messages</th>\n",
       "      <th>Total day minutes</th>\n",
       "      <th>Total day calls</th>\n",
       "      <th>Total day charge</th>\n",
       "      <th>Total eve minutes</th>\n",
       "      <th>Total eve calls</th>\n",
       "      <th>Total eve charge</th>\n",
       "      <th>Total night minutes</th>\n",
       "      <th>Total night calls</th>\n",
       "      <th>Total night charge</th>\n",
       "      <th>Total intl minutes</th>\n",
       "      <th>Total intl calls</th>\n",
       "      <th>Total intl charge</th>\n",
       "      <th>Customer service calls</th>\n",
       "      <th>Churn</th>\n",
       "    </tr>\n",
       "  </thead>\n",
       "  <tbody>\n",
       "    <tr>\n",
       "      <th>0</th>\n",
       "      <td>66</td>\n",
       "      <td>510</td>\n",
       "      <td>0</td>\n",
       "      <td>0</td>\n",
       "      <td>0</td>\n",
       "      <td>118.0</td>\n",
       "      <td>133</td>\n",
       "      <td>20.06</td>\n",
       "      <td>248.1</td>\n",
       "      <td>99</td>\n",
       "      <td>21.09</td>\n",
       "      <td>214.4</td>\n",
       "      <td>122</td>\n",
       "      <td>9.65</td>\n",
       "      <td>5.3</td>\n",
       "      <td>5</td>\n",
       "      <td>1.43</td>\n",
       "      <td>1</td>\n",
       "      <td>0</td>\n",
       "    </tr>\n",
       "    <tr>\n",
       "      <th>1</th>\n",
       "      <td>86</td>\n",
       "      <td>408</td>\n",
       "      <td>0</td>\n",
       "      <td>1</td>\n",
       "      <td>16</td>\n",
       "      <td>145.7</td>\n",
       "      <td>88</td>\n",
       "      <td>24.77</td>\n",
       "      <td>191.0</td>\n",
       "      <td>129</td>\n",
       "      <td>16.24</td>\n",
       "      <td>215.5</td>\n",
       "      <td>82</td>\n",
       "      <td>9.70</td>\n",
       "      <td>11.3</td>\n",
       "      <td>7</td>\n",
       "      <td>3.05</td>\n",
       "      <td>0</td>\n",
       "      <td>0</td>\n",
       "    </tr>\n",
       "    <tr>\n",
       "      <th>2</th>\n",
       "      <td>65</td>\n",
       "      <td>415</td>\n",
       "      <td>0</td>\n",
       "      <td>1</td>\n",
       "      <td>34</td>\n",
       "      <td>208.8</td>\n",
       "      <td>119</td>\n",
       "      <td>35.50</td>\n",
       "      <td>142.1</td>\n",
       "      <td>106</td>\n",
       "      <td>12.08</td>\n",
       "      <td>214.6</td>\n",
       "      <td>87</td>\n",
       "      <td>9.66</td>\n",
       "      <td>12.5</td>\n",
       "      <td>4</td>\n",
       "      <td>3.38</td>\n",
       "      <td>4</td>\n",
       "      <td>0</td>\n",
       "    </tr>\n",
       "    <tr>\n",
       "      <th>3</th>\n",
       "      <td>95</td>\n",
       "      <td>415</td>\n",
       "      <td>0</td>\n",
       "      <td>0</td>\n",
       "      <td>0</td>\n",
       "      <td>175.2</td>\n",
       "      <td>91</td>\n",
       "      <td>29.78</td>\n",
       "      <td>244.4</td>\n",
       "      <td>109</td>\n",
       "      <td>20.77</td>\n",
       "      <td>75.8</td>\n",
       "      <td>95</td>\n",
       "      <td>3.41</td>\n",
       "      <td>7.5</td>\n",
       "      <td>2</td>\n",
       "      <td>2.03</td>\n",
       "      <td>1</td>\n",
       "      <td>0</td>\n",
       "    </tr>\n",
       "    <tr>\n",
       "      <th>4</th>\n",
       "      <td>105</td>\n",
       "      <td>408</td>\n",
       "      <td>0</td>\n",
       "      <td>0</td>\n",
       "      <td>0</td>\n",
       "      <td>206.2</td>\n",
       "      <td>84</td>\n",
       "      <td>35.05</td>\n",
       "      <td>256.4</td>\n",
       "      <td>138</td>\n",
       "      <td>21.79</td>\n",
       "      <td>117.1</td>\n",
       "      <td>91</td>\n",
       "      <td>5.27</td>\n",
       "      <td>9.0</td>\n",
       "      <td>3</td>\n",
       "      <td>2.43</td>\n",
       "      <td>1</td>\n",
       "      <td>0</td>\n",
       "    </tr>\n",
       "  </tbody>\n",
       "</table>\n",
       "</div>"
      ],
      "text/plain": [
       "   Account length  Area code  International plan  Voice mail plan  \\\n",
       "0              66        510                   0                0   \n",
       "1              86        408                   0                1   \n",
       "2              65        415                   0                1   \n",
       "3              95        415                   0                0   \n",
       "4             105        408                   0                0   \n",
       "\n",
       "   Number vmail messages  Total day minutes  Total day calls  \\\n",
       "0                      0              118.0              133   \n",
       "1                     16              145.7               88   \n",
       "2                     34              208.8              119   \n",
       "3                      0              175.2               91   \n",
       "4                      0              206.2               84   \n",
       "\n",
       "   Total day charge  Total eve minutes  Total eve calls  Total eve charge  \\\n",
       "0             20.06              248.1               99             21.09   \n",
       "1             24.77              191.0              129             16.24   \n",
       "2             35.50              142.1              106             12.08   \n",
       "3             29.78              244.4              109             20.77   \n",
       "4             35.05              256.4              138             21.79   \n",
       "\n",
       "   Total night minutes  Total night calls  Total night charge  \\\n",
       "0                214.4                122                9.65   \n",
       "1                215.5                 82                9.70   \n",
       "2                214.6                 87                9.66   \n",
       "3                 75.8                 95                3.41   \n",
       "4                117.1                 91                5.27   \n",
       "\n",
       "   Total intl minutes  Total intl calls  Total intl charge  \\\n",
       "0                 5.3                 5               1.43   \n",
       "1                11.3                 7               3.05   \n",
       "2                12.5                 4               3.38   \n",
       "3                 7.5                 2               2.03   \n",
       "4                 9.0                 3               2.43   \n",
       "\n",
       "   Customer service calls  Churn  \n",
       "0                       1      0  \n",
       "1                       0      0  \n",
       "2                       4      0  \n",
       "3                       1      0  \n",
       "4                       1      0  "
      ]
     },
     "execution_count": 10,
     "metadata": {},
     "output_type": "execute_result"
    }
   ],
   "source": [
    "post_train.head(5)"
   ]
  },
  {
   "cell_type": "code",
   "execution_count": 11,
   "id": "3d69703d-3c1e-42a1-995f-d1300e3f20cb",
   "metadata": {},
   "outputs": [],
   "source": [
    "X_train = post_train.drop('Churn', axis=1)\n",
    "y_train = post_train['Churn']\n",
    "X_test = post_test.drop('Churn', axis=1)\n",
    "y_test = post_test['Churn']"
   ]
  },
  {
   "cell_type": "code",
   "execution_count": 12,
   "id": "0c7be7b9-7493-4433-a38d-a17019167bf7",
   "metadata": {},
   "outputs": [
    {
     "data": {
      "text/html": [
       "<div>\n",
       "<style scoped>\n",
       "    .dataframe tbody tr th:only-of-type {\n",
       "        vertical-align: middle;\n",
       "    }\n",
       "\n",
       "    .dataframe tbody tr th {\n",
       "        vertical-align: top;\n",
       "    }\n",
       "\n",
       "    .dataframe thead th {\n",
       "        text-align: right;\n",
       "    }\n",
       "</style>\n",
       "<table border=\"1\" class=\"dataframe\">\n",
       "  <thead>\n",
       "    <tr style=\"text-align: right;\">\n",
       "      <th></th>\n",
       "      <th>Account length</th>\n",
       "      <th>Area code</th>\n",
       "      <th>International plan</th>\n",
       "      <th>Voice mail plan</th>\n",
       "      <th>Number vmail messages</th>\n",
       "      <th>Total day minutes</th>\n",
       "      <th>Total day calls</th>\n",
       "      <th>Total day charge</th>\n",
       "      <th>Total eve minutes</th>\n",
       "      <th>Total eve calls</th>\n",
       "      <th>Total eve charge</th>\n",
       "      <th>Total night minutes</th>\n",
       "      <th>Total night calls</th>\n",
       "      <th>Total night charge</th>\n",
       "      <th>Total intl minutes</th>\n",
       "      <th>Total intl calls</th>\n",
       "      <th>Total intl charge</th>\n",
       "      <th>Customer service calls</th>\n",
       "    </tr>\n",
       "  </thead>\n",
       "  <tbody>\n",
       "    <tr>\n",
       "      <th>0</th>\n",
       "      <td>66</td>\n",
       "      <td>510</td>\n",
       "      <td>0</td>\n",
       "      <td>0</td>\n",
       "      <td>0</td>\n",
       "      <td>118.0</td>\n",
       "      <td>133</td>\n",
       "      <td>20.06</td>\n",
       "      <td>248.1</td>\n",
       "      <td>99</td>\n",
       "      <td>21.09</td>\n",
       "      <td>214.4</td>\n",
       "      <td>122</td>\n",
       "      <td>9.65</td>\n",
       "      <td>5.3</td>\n",
       "      <td>5</td>\n",
       "      <td>1.43</td>\n",
       "      <td>1</td>\n",
       "    </tr>\n",
       "    <tr>\n",
       "      <th>1</th>\n",
       "      <td>86</td>\n",
       "      <td>408</td>\n",
       "      <td>0</td>\n",
       "      <td>1</td>\n",
       "      <td>16</td>\n",
       "      <td>145.7</td>\n",
       "      <td>88</td>\n",
       "      <td>24.77</td>\n",
       "      <td>191.0</td>\n",
       "      <td>129</td>\n",
       "      <td>16.24</td>\n",
       "      <td>215.5</td>\n",
       "      <td>82</td>\n",
       "      <td>9.70</td>\n",
       "      <td>11.3</td>\n",
       "      <td>7</td>\n",
       "      <td>3.05</td>\n",
       "      <td>0</td>\n",
       "    </tr>\n",
       "    <tr>\n",
       "      <th>2</th>\n",
       "      <td>65</td>\n",
       "      <td>415</td>\n",
       "      <td>0</td>\n",
       "      <td>1</td>\n",
       "      <td>34</td>\n",
       "      <td>208.8</td>\n",
       "      <td>119</td>\n",
       "      <td>35.50</td>\n",
       "      <td>142.1</td>\n",
       "      <td>106</td>\n",
       "      <td>12.08</td>\n",
       "      <td>214.6</td>\n",
       "      <td>87</td>\n",
       "      <td>9.66</td>\n",
       "      <td>12.5</td>\n",
       "      <td>4</td>\n",
       "      <td>3.38</td>\n",
       "      <td>4</td>\n",
       "    </tr>\n",
       "    <tr>\n",
       "      <th>3</th>\n",
       "      <td>95</td>\n",
       "      <td>415</td>\n",
       "      <td>0</td>\n",
       "      <td>0</td>\n",
       "      <td>0</td>\n",
       "      <td>175.2</td>\n",
       "      <td>91</td>\n",
       "      <td>29.78</td>\n",
       "      <td>244.4</td>\n",
       "      <td>109</td>\n",
       "      <td>20.77</td>\n",
       "      <td>75.8</td>\n",
       "      <td>95</td>\n",
       "      <td>3.41</td>\n",
       "      <td>7.5</td>\n",
       "      <td>2</td>\n",
       "      <td>2.03</td>\n",
       "      <td>1</td>\n",
       "    </tr>\n",
       "    <tr>\n",
       "      <th>4</th>\n",
       "      <td>105</td>\n",
       "      <td>408</td>\n",
       "      <td>0</td>\n",
       "      <td>0</td>\n",
       "      <td>0</td>\n",
       "      <td>206.2</td>\n",
       "      <td>84</td>\n",
       "      <td>35.05</td>\n",
       "      <td>256.4</td>\n",
       "      <td>138</td>\n",
       "      <td>21.79</td>\n",
       "      <td>117.1</td>\n",
       "      <td>91</td>\n",
       "      <td>5.27</td>\n",
       "      <td>9.0</td>\n",
       "      <td>3</td>\n",
       "      <td>2.43</td>\n",
       "      <td>1</td>\n",
       "    </tr>\n",
       "  </tbody>\n",
       "</table>\n",
       "</div>"
      ],
      "text/plain": [
       "   Account length  Area code  International plan  Voice mail plan  \\\n",
       "0              66        510                   0                0   \n",
       "1              86        408                   0                1   \n",
       "2              65        415                   0                1   \n",
       "3              95        415                   0                0   \n",
       "4             105        408                   0                0   \n",
       "\n",
       "   Number vmail messages  Total day minutes  Total day calls  \\\n",
       "0                      0              118.0              133   \n",
       "1                     16              145.7               88   \n",
       "2                     34              208.8              119   \n",
       "3                      0              175.2               91   \n",
       "4                      0              206.2               84   \n",
       "\n",
       "   Total day charge  Total eve minutes  Total eve calls  Total eve charge  \\\n",
       "0             20.06              248.1               99             21.09   \n",
       "1             24.77              191.0              129             16.24   \n",
       "2             35.50              142.1              106             12.08   \n",
       "3             29.78              244.4              109             20.77   \n",
       "4             35.05              256.4              138             21.79   \n",
       "\n",
       "   Total night minutes  Total night calls  Total night charge  \\\n",
       "0                214.4                122                9.65   \n",
       "1                215.5                 82                9.70   \n",
       "2                214.6                 87                9.66   \n",
       "3                 75.8                 95                3.41   \n",
       "4                117.1                 91                5.27   \n",
       "\n",
       "   Total intl minutes  Total intl calls  Total intl charge  \\\n",
       "0                 5.3                 5               1.43   \n",
       "1                11.3                 7               3.05   \n",
       "2                12.5                 4               3.38   \n",
       "3                 7.5                 2               2.03   \n",
       "4                 9.0                 3               2.43   \n",
       "\n",
       "   Customer service calls  \n",
       "0                       1  \n",
       "1                       0  \n",
       "2                       4  \n",
       "3                       1  \n",
       "4                       1  "
      ]
     },
     "execution_count": 12,
     "metadata": {},
     "output_type": "execute_result"
    }
   ],
   "source": [
    "X_train.head(5)"
   ]
  },
  {
   "cell_type": "code",
   "execution_count": 13,
   "id": "09531a55-034b-4a27-9b5c-ace9321244c7",
   "metadata": {},
   "outputs": [
    {
     "data": {
      "text/plain": [
       "0    0\n",
       "1    0\n",
       "2    0\n",
       "3    0\n",
       "4    0\n",
       "Name: Churn, dtype: int64"
      ]
     },
     "execution_count": 13,
     "metadata": {},
     "output_type": "execute_result"
    }
   ],
   "source": [
    "y_train.head(5)"
   ]
  },
  {
   "cell_type": "markdown",
   "id": "86db1e6c-a0a2-42db-a543-86ab13016b90",
   "metadata": {},
   "source": [
    "#### Helper function for evaluation"
   ]
  },
  {
   "cell_type": "code",
   "execution_count": 14,
   "id": "ed0547b3-bb1f-48ac-a6ae-ca600e5505d7",
   "metadata": {},
   "outputs": [],
   "source": [
    "from utils import evaluate_model"
   ]
  },
  {
   "cell_type": "markdown",
   "id": "33627847-b084-4ffb-ae93-c03dda6261dd",
   "metadata": {},
   "source": [
    "## 4. SMOTE + Regular Random Forest"
   ]
  },
  {
   "cell_type": "code",
   "execution_count": 15,
   "id": "905d1a8a-b275-424e-b994-3138aabc6d5c",
   "metadata": {},
   "outputs": [],
   "source": [
    "from imblearn.over_sampling import SMOTE"
   ]
  },
  {
   "cell_type": "code",
   "execution_count": 16,
   "id": "06415122-a846-4af7-a1f1-4d703f11dd9d",
   "metadata": {},
   "outputs": [
    {
     "name": "stdout",
     "output_type": "stream",
     "text": [
      "\n",
      "--- SMOTE + Random Forest ---\n",
      "              precision    recall  f1-score   support\n",
      "\n",
      "           0       0.98      0.99      0.98       569\n",
      "           1       0.57      0.36      0.44        22\n",
      "\n",
      "    accuracy                           0.97       591\n",
      "   macro avg       0.77      0.68      0.71       591\n",
      "weighted avg       0.96      0.97      0.96       591\n",
      "\n"
     ]
    },
    {
     "data": {
      "image/png": "[encoded data removed]",
      "text/plain": [
       "<Figure size 432x288 with 2 Axes>"
      ]
     },
     "metadata": {
      "needs_background": "light"
     },
     "output_type": "display_data"
    },
    {
     "name": "stdout",
     "output_type": "stream",
     "text": [
      "ROC-AUC: 0.907453267295095\n"
     ]
    },
    {
     "data": {
      "image/png": "[encoded data removed]",
      "text/plain": [
       "<Figure size 432x288 with 1 Axes>"
      ]
     },
     "metadata": {
      "needs_background": "light"
     },
     "output_type": "display_data"
    }
   ],
   "source": [
    "smote = SMOTE(random_state=42)\n",
    "X_sm, y_sm = smote.fit_resample(X_train, y_train)\n",
    "clf_smote = RandomForestClassifier(random_state=42)\n",
    "clf_smote.fit(X_sm, y_sm)\n",
    "evaluate_model(clf_smote, X_test, y_test, \"SMOTE + Random Forest\")"
   ]
  },
  {
   "cell_type": "markdown",
   "id": "5cce2500-697c-408f-b8f1-b0936308d240",
   "metadata": {},
   "source": [
    "### 4.5. SMOTE + Regular Random Forest w/ HPO"
   ]
  },
  {
   "cell_type": "code",
   "execution_count": 17,
   "id": "5a2e0ba4-3fd0-43d5-b66d-6b09ff81071b",
   "metadata": {},
   "outputs": [],
   "source": [
    "from sklearn.model_selection import GridSearchCV"
   ]
  },
  {
   "cell_type": "code",
   "execution_count": 18,
   "id": "a5857fa5-2217-410b-8455-8cd1b09e6529",
   "metadata": {},
   "outputs": [
    {
     "name": "stdout",
     "output_type": "stream",
     "text": [
      "\n",
      "--- SMOTE + Random Forest (HPO) ---\n",
      "              precision    recall  f1-score   support\n",
      "\n",
      "           0       0.98      0.99      0.98       569\n",
      "           1       0.60      0.41      0.49        22\n",
      "\n",
      "    accuracy                           0.97       591\n",
      "   macro avg       0.79      0.70      0.73       591\n",
      "weighted avg       0.96      0.97      0.96       591\n",
      "\n"
     ]
    },
    {
     "data": {
      "image/png": "[encoded data removed]",
      "text/plain": [
       "<Figure size 432x288 with 2 Axes>"
      ]
     },
     "metadata": {
      "needs_background": "light"
     },
     "output_type": "display_data"
    },
    {
     "name": "stdout",
     "output_type": "stream",
     "text": [
      "ROC-AUC: 0.9049768333599616\n"
     ]
    },
    {
     "data": {
      "image/png": "[encoded data removed]",
      "text/plain": [
       "<Figure size 432x288 with 1 Axes>"
      ]
     },
     "metadata": {
      "needs_background": "light"
     },
     "output_type": "display_data"
    }
   ],
   "source": [
    "smote = SMOTE(random_state=42)\n",
    "X_sm, y_sm = smote.fit_resample(X_train, y_train)\n",
    "\n",
    "rf_params = {'n_estimators': [20, 50, 100, 150], 'max_depth': [None, 10, 20, 30]}\n",
    "gs_rf = GridSearchCV(RandomForestClassifier(random_state=42), rf_params, scoring='roc_auc', cv=4, n_jobs=-1)\n",
    "gs_rf.fit(X_sm, y_sm)\n",
    "evaluate_model(gs_rf.best_estimator_, X_test, y_test, \"SMOTE + Random Forest (HPO)\")"
   ]
  },
  {
   "cell_type": "markdown",
   "id": "63b24d95-6756-4fb3-9faf-624cf9448ccc",
   "metadata": {},
   "source": [
    "## 5. Balanced Random Forest (no SMOTE)"
   ]
  },
  {
   "cell_type": "code",
   "execution_count": 19,
   "id": "fec0526c-5111-4bc1-849a-c3bace6b21cf",
   "metadata": {},
   "outputs": [],
   "source": [
    "from imblearn.ensemble import BalancedRandomForestClassifier"
   ]
  },
  {
   "cell_type": "code",
   "execution_count": 20,
   "id": "bd926984-9279-49de-a06a-0f6988eb2fe3",
   "metadata": {},
   "outputs": [
    {
     "name": "stdout",
     "output_type": "stream",
     "text": [
      "\n",
      "--- Balanced Random Forest Only ---\n",
      "              precision    recall  f1-score   support\n",
      "\n",
      "           0       1.00      0.92      0.96       569\n",
      "           1       0.30      0.95      0.46        22\n",
      "\n",
      "    accuracy                           0.92       591\n",
      "   macro avg       0.65      0.94      0.71       591\n",
      "weighted avg       0.97      0.92      0.94       591\n",
      "\n"
     ]
    },
    {
     "data": {
      "image/png": "[encoded data removed]",
      "text/plain": [
       "<Figure size 432x288 with 2 Axes>"
      ]
     },
     "metadata": {
      "needs_background": "light"
     },
     "output_type": "display_data"
    },
    {
     "name": "stdout",
     "output_type": "stream",
     "text": [
      "ROC-AUC: 0.9624540661447516\n"
     ]
    },
    {
     "data": {
      "image/png": "[encoded data removed]",
      "text/plain": [
       "<Figure size 432x288 with 1 Axes>"
      ]
     },
     "metadata": {
      "needs_background": "light"
     },
     "output_type": "display_data"
    }
   ],
   "source": [
    "clf_balrf = BalancedRandomForestClassifier(random_state=42, n_estimators=100)\n",
    "clf_balrf.fit(X_train, y_train)\n",
    "evaluate_model(clf_balrf, X_test, y_test, \"Balanced Random Forest Only\")"
   ]
  },
  {
   "cell_type": "markdown",
   "id": "1845a4fb-26e0-48e8-9a62-e65e969ca364",
   "metadata": {},
   "source": [
    "### 5.5. Balanced Random Forest (no SMOTE) w/ HPO"
   ]
  },
  {
   "cell_type": "code",
   "execution_count": 21,
   "id": "1ffc44a0-4674-4d29-8318-203a5c31f106",
   "metadata": {},
   "outputs": [
    {
     "name": "stdout",
     "output_type": "stream",
     "text": [
      "\n",
      "--- Balanced Random Forest Only (HPO) ---\n",
      "              precision    recall  f1-score   support\n",
      "\n",
      "           0       1.00      0.91      0.95       569\n",
      "           1       0.28      0.91      0.43        22\n",
      "\n",
      "    accuracy                           0.91       591\n",
      "   macro avg       0.64      0.91      0.69       591\n",
      "weighted avg       0.97      0.91      0.93       591\n",
      "\n"
     ]
    },
    {
     "data": {
      "image/png": "[encoded data removed]",
      "text/plain": [
       "<Figure size 432x288 with 2 Axes>"
      ]
     },
     "metadata": {
      "needs_background": "light"
     },
     "output_type": "display_data"
    },
    {
     "name": "stdout",
     "output_type": "stream",
     "text": [
      "ROC-AUC: 0.9609362517974117\n"
     ]
    },
    {
     "data": {
      "image/png": "[encoded data removed]",
      "text/plain": [
       "<Figure size 432x288 with 1 Axes>"
      ]
     },
     "metadata": {
      "needs_background": "light"
     },
     "output_type": "display_data"
    }
   ],
   "source": [
    "brf_params = {'n_estimators': [20, 50, 100, 150], 'max_depth': [None, 10, 20, 30]}\n",
    "gs_brf = GridSearchCV(BalancedRandomForestClassifier(random_state=42), brf_params, scoring='roc_auc', cv=3, n_jobs=-1)\n",
    "gs_brf.fit(X_train, y_train)\n",
    "evaluate_model(gs_brf.best_estimator_, X_test, y_test, \"Balanced Random Forest Only (HPO)\")"
   ]
  },
  {
   "cell_type": "markdown",
   "id": "d0005103-aa55-4466-b49e-aa4b90b2411f",
   "metadata": {},
   "source": [
    "## 6. SMOTE + Balanced Random Forest"
   ]
  },
  {
   "cell_type": "code",
   "execution_count": 22,
   "id": "5030e61d-4001-4b82-ae78-fa9395559d17",
   "metadata": {},
   "outputs": [
    {
     "name": "stdout",
     "output_type": "stream",
     "text": [
      "\n",
      "--- SMOTE + Balanced Random Forest ---\n",
      "              precision    recall  f1-score   support\n",
      "\n",
      "           0       0.98      0.99      0.98       569\n",
      "           1       0.62      0.45      0.53        22\n",
      "\n",
      "    accuracy                           0.97       591\n",
      "   macro avg       0.80      0.72      0.76       591\n",
      "weighted avg       0.97      0.97      0.97       591\n",
      "\n"
     ]
    },
    {
     "data": {
      "image/png": "[encoded data removed]",
      "text/plain": [
       "<Figure size 432x288 with 2 Axes>"
      ]
     },
     "metadata": {
      "needs_background": "light"
     },
     "output_type": "display_data"
    },
    {
     "name": "stdout",
     "output_type": "stream",
     "text": [
      "ROC-AUC: 0.9180779677264739\n"
     ]
    },
    {
     "data": {
      "image/png": "[encoded data removed]",
      "text/plain": [
       "<Figure size 432x288 with 1 Axes>"
      ]
     },
     "metadata": {
      "needs_background": "light"
     },
     "output_type": "display_data"
    }
   ],
   "source": [
    "X_comb, y_comb = smote.fit_resample(X_train, y_train)\n",
    "clf_comb = BalancedRandomForestClassifier(random_state=42, n_estimators=100)\n",
    "clf_comb.fit(X_comb, y_comb)\n",
    "evaluate_model(clf_comb, X_test, y_test, \"SMOTE + Balanced Random Forest\")"
   ]
  },
  {
   "cell_type": "markdown",
   "id": "6cfd5689-8d28-4375-902a-93fae3348b93",
   "metadata": {},
   "source": [
    "## 🔍 Why would someone combine SMOTE with a Balanced Random Forest?\n",
    "\n",
    "1. They address imbalance in different ways\n",
    "\t•\tSMOTE adds synthetic minority samples before training, altering the input data distribution.\n",
    "\t•\tBalanced Random Forest (BRF) samples equal numbers of classes per tree during training, affecting the training process per estimator, but not the original dataset directly.\n",
    "\n",
    "So together, they:\n",
    "\t•\tEnrich the data (via SMOTE).\n",
    "\t•\tBalance how it’s sampled internally (via BRF).\n",
    "\n",
    "2. Theoretically, it can increase diversity + signal\n",
    "\n",
    "SMOTE might inject useful minority-class structure that wouldn’t be seen in the original dataset.\n",
    "Balanced Random Forest, meanwhile, ensures minority cases are not overwhelmed during the tree-building phase.\n",
    "\n",
    "This might help stabilize the model if:\n",
    "\t•\tThe original minority class is too small for BRF to sample diverse enough trees.\n",
    "\t•\tSMOTE alone creates too much synthetic noise without enough focus during learning.\n",
    "⸻\n",
    "\n",
    "🔴 But… often it’s redundant or counterproductive\n",
    "\n",
    "Why?\n",
    "\t•\tBRF already performs random undersampling + balancing internally. Adding SMOTE can just inject synthetic noise without improving generalization.\n",
    "\t•\tYou risk overfitting to synthetic patterns from SMOTE that don’t generalize well — especially since BRF will aggressively focus on these new samples.\n",
    "\t•\tComputationally inefficient: you’re adding preprocessing and larger training sets for marginal gain.\n",
    "\n",
    "⸻\n",
    "\n",
    "✅ When to consider combining them:\n",
    "\t•\tThe original minority class is very small or noisy, and BRF performs poorly alone.\n",
    "\t•\tYou need to inject known structure via SMOTE before training.\n",
    "\t•\tYou’re conducting model exploration or ensembling multiple views of the data.\n",
    "\n",
    "⸻\n",
    "\n",
    "💡 TL;DR\n",
    "\n",
    "Don’t assume more balancing = better results. BRF already handles imbalance. Try both separately first. Combine only if you find they add value together in validation results."
   ]
  },
  {
   "cell_type": "code",
   "execution_count": null,
   "id": "2315cbe2-a475-406e-b80c-ccbaf0fefc42",
   "metadata": {},
   "outputs": [],
   "source": []
  },
  {
   "cell_type": "code",
   "execution_count": null,
   "id": "60264c76-4776-4cc2-9f51-31d31f65533b",
   "metadata": {},
   "outputs": [],
   "source": []
  }
 ],
 "metadata": {
  "kernelspec": {
   "display_name": "py3",
   "language": "python",
   "name": "py3"
  },
  "language_info": {
   "codemirror_mode": {
    "name": "ipython",
    "version": 3
   },
   "file_extension": ".py",
   "mimetype": "text/x-python",
   "name": "python",
   "nbconvert_exporter": "python",
   "pygments_lexer": "ipython3",
   "version": "3.10.2"
  }
 },
 "nbformat": 4,
 "nbformat_minor": 5
}
